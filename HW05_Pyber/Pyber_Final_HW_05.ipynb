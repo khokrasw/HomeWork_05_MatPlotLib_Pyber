{
 "cells": [
  {
   "cell_type": "code",
   "execution_count": 1,
   "metadata": {},
   "outputs": [],
   "source": [
    "%matplotlib inline\n",
    "# Dependencies and Setup\n",
    "import matplotlib.pyplot as plt\n",
    "import pandas as pd\n",
    "import urllib\n",
    "\n",
    "city_data_to_load = \"data/city_data.csv\"\n",
    "ride_data_to_load = \"data/ride_data.csv\"\n",
    "\n",
    "# Read the City and Ride Data\n",
    "city_data=pd.read_csv(city_data_to_load)\n",
    "ride_data=pd.read_csv(ride_data_to_load)"
   ]
  },
  {
   "cell_type": "code",
   "execution_count": 2,
   "metadata": {},
   "outputs": [
    {
     "name": "stdout",
     "output_type": "stream",
     "text": [
      "<class 'pandas.core.frame.DataFrame'> 120\n",
      "          city  driver_count   type\n",
      "2  Port Angela            67  Urban\n"
     ]
    },
    {
     "data": {
      "text/html": [
       "<div>\n",
       "<style scoped>\n",
       "    .dataframe tbody tr th:only-of-type {\n",
       "        vertical-align: middle;\n",
       "    }\n",
       "\n",
       "    .dataframe tbody tr th {\n",
       "        vertical-align: top;\n",
       "    }\n",
       "\n",
       "    .dataframe thead th {\n",
       "        text-align: right;\n",
       "    }\n",
       "</style>\n",
       "<table border=\"1\" class=\"dataframe\">\n",
       "  <thead>\n",
       "    <tr style=\"text-align: right;\">\n",
       "      <th></th>\n",
       "      <th>city</th>\n",
       "      <th>driver_count</th>\n",
       "      <th>type</th>\n",
       "    </tr>\n",
       "  </thead>\n",
       "  <tbody>\n",
       "    <tr>\n",
       "      <th>0</th>\n",
       "      <td>Richardfort</td>\n",
       "      <td>38</td>\n",
       "      <td>Urban</td>\n",
       "    </tr>\n",
       "    <tr>\n",
       "      <th>1</th>\n",
       "      <td>Williamsstad</td>\n",
       "      <td>59</td>\n",
       "      <td>Urban</td>\n",
       "    </tr>\n",
       "    <tr>\n",
       "      <th>2</th>\n",
       "      <td>Port Angela</td>\n",
       "      <td>67</td>\n",
       "      <td>Urban</td>\n",
       "    </tr>\n",
       "    <tr>\n",
       "      <th>3</th>\n",
       "      <td>Rodneyfort</td>\n",
       "      <td>34</td>\n",
       "      <td>Urban</td>\n",
       "    </tr>\n",
       "    <tr>\n",
       "      <th>4</th>\n",
       "      <td>West Robert</td>\n",
       "      <td>39</td>\n",
       "      <td>Urban</td>\n",
       "    </tr>\n",
       "  </tbody>\n",
       "</table>\n",
       "</div>"
      ],
      "text/plain": [
       "           city  driver_count   type\n",
       "0   Richardfort            38  Urban\n",
       "1  Williamsstad            59  Urban\n",
       "2   Port Angela            67  Urban\n",
       "3    Rodneyfort            34  Urban\n",
       "4   West Robert            39  Urban"
      ]
     },
     "execution_count": 2,
     "metadata": {},
     "output_type": "execute_result"
    }
   ],
   "source": [
    "# Display some data attributes to properly develop processing logic\n",
    "print(type(city_data), len(city_data))\n",
    "print(city_data[city_data['city']==\"Port Angela\"])\n",
    "city_data.head()"
   ]
  },
  {
   "cell_type": "code",
   "execution_count": 3,
   "metadata": {
    "scrolled": true
   },
   "outputs": [
    {
     "name": "stdout",
     "output_type": "stream",
     "text": [
      "<class 'pandas.core.frame.DataFrame'> 2375\n",
      "\n"
     ]
    },
    {
     "data": {
      "text/html": [
       "<div>\n",
       "<style scoped>\n",
       "    .dataframe tbody tr th:only-of-type {\n",
       "        vertical-align: middle;\n",
       "    }\n",
       "\n",
       "    .dataframe tbody tr th {\n",
       "        vertical-align: top;\n",
       "    }\n",
       "\n",
       "    .dataframe thead th {\n",
       "        text-align: right;\n",
       "    }\n",
       "</style>\n",
       "<table border=\"1\" class=\"dataframe\">\n",
       "  <thead>\n",
       "    <tr style=\"text-align: right;\">\n",
       "      <th></th>\n",
       "      <th>city</th>\n",
       "      <th>date</th>\n",
       "      <th>fare</th>\n",
       "      <th>ride_id</th>\n",
       "    </tr>\n",
       "  </thead>\n",
       "  <tbody>\n",
       "    <tr>\n",
       "      <th>0</th>\n",
       "      <td>Lake Jonathanshire</td>\n",
       "      <td>1/14/2018 10:14</td>\n",
       "      <td>13.83</td>\n",
       "      <td>5739410935873</td>\n",
       "    </tr>\n",
       "    <tr>\n",
       "      <th>1</th>\n",
       "      <td>South Michelleport</td>\n",
       "      <td>3/4/2018 18:24</td>\n",
       "      <td>30.24</td>\n",
       "      <td>2343912425577</td>\n",
       "    </tr>\n",
       "    <tr>\n",
       "      <th>2</th>\n",
       "      <td>Port Samanthamouth</td>\n",
       "      <td>2/24/2018 4:29</td>\n",
       "      <td>33.44</td>\n",
       "      <td>2005065760003</td>\n",
       "    </tr>\n",
       "    <tr>\n",
       "      <th>3</th>\n",
       "      <td>Rodneyfort</td>\n",
       "      <td>2/10/2018 23:22</td>\n",
       "      <td>23.44</td>\n",
       "      <td>5149245426178</td>\n",
       "    </tr>\n",
       "    <tr>\n",
       "      <th>4</th>\n",
       "      <td>South Jack</td>\n",
       "      <td>3/6/2018 4:28</td>\n",
       "      <td>34.58</td>\n",
       "      <td>3908451377344</td>\n",
       "    </tr>\n",
       "  </tbody>\n",
       "</table>\n",
       "</div>"
      ],
      "text/plain": [
       "                 city             date   fare        ride_id\n",
       "0  Lake Jonathanshire  1/14/2018 10:14  13.83  5739410935873\n",
       "1  South Michelleport   3/4/2018 18:24  30.24  2343912425577\n",
       "2  Port Samanthamouth   2/24/2018 4:29  33.44  2005065760003\n",
       "3          Rodneyfort  2/10/2018 23:22  23.44  5149245426178\n",
       "4          South Jack    3/6/2018 4:28  34.58  3908451377344"
      ]
     },
     "execution_count": 3,
     "metadata": {},
     "output_type": "execute_result"
    }
   ],
   "source": [
    "# Some additional data attributes to help with processing logic development\n",
    "print(type(ride_data), len(ride_data))\n",
    "print()\n",
    "ride_data.head()"
   ]
  },
  {
   "cell_type": "code",
   "execution_count": 4,
   "metadata": {},
   "outputs": [],
   "source": [
    "# Combine the data into a single data set\n",
    "city_n_rides=city_data.merge(ride_data, on=\"city\", how=\"outer\")"
   ]
  },
  {
   "cell_type": "code",
   "execution_count": 5,
   "metadata": {},
   "outputs": [
    {
     "name": "stdout",
     "output_type": "stream",
     "text": [
      "<class 'pandas.core.frame.DataFrame'> 120\n",
      "<class 'pandas.core.frame.DataFrame'> 2375\n",
      "<class 'pandas.core.frame.DataFrame'> 2375\n"
     ]
    },
    {
     "data": {
      "text/html": [
       "<div>\n",
       "<style scoped>\n",
       "    .dataframe tbody tr th:only-of-type {\n",
       "        vertical-align: middle;\n",
       "    }\n",
       "\n",
       "    .dataframe tbody tr th {\n",
       "        vertical-align: top;\n",
       "    }\n",
       "\n",
       "    .dataframe thead th {\n",
       "        text-align: right;\n",
       "    }\n",
       "</style>\n",
       "<table border=\"1\" class=\"dataframe\">\n",
       "  <thead>\n",
       "    <tr style=\"text-align: right;\">\n",
       "      <th></th>\n",
       "      <th>city</th>\n",
       "      <th>driver_count</th>\n",
       "      <th>type</th>\n",
       "      <th>date</th>\n",
       "      <th>fare</th>\n",
       "      <th>ride_id</th>\n",
       "    </tr>\n",
       "  </thead>\n",
       "  <tbody>\n",
       "    <tr>\n",
       "      <th>0</th>\n",
       "      <td>Richardfort</td>\n",
       "      <td>38</td>\n",
       "      <td>Urban</td>\n",
       "      <td>2/24/2018 8:40</td>\n",
       "      <td>13.93</td>\n",
       "      <td>5628545007794</td>\n",
       "    </tr>\n",
       "    <tr>\n",
       "      <th>1</th>\n",
       "      <td>Richardfort</td>\n",
       "      <td>38</td>\n",
       "      <td>Urban</td>\n",
       "      <td>2/13/2018 12:46</td>\n",
       "      <td>14.00</td>\n",
       "      <td>910050116494</td>\n",
       "    </tr>\n",
       "    <tr>\n",
       "      <th>2</th>\n",
       "      <td>Richardfort</td>\n",
       "      <td>38</td>\n",
       "      <td>Urban</td>\n",
       "      <td>2/16/2018 13:52</td>\n",
       "      <td>17.92</td>\n",
       "      <td>820639054416</td>\n",
       "    </tr>\n",
       "    <tr>\n",
       "      <th>3</th>\n",
       "      <td>Richardfort</td>\n",
       "      <td>38</td>\n",
       "      <td>Urban</td>\n",
       "      <td>2/1/2018 20:18</td>\n",
       "      <td>10.26</td>\n",
       "      <td>9554935945413</td>\n",
       "    </tr>\n",
       "    <tr>\n",
       "      <th>4</th>\n",
       "      <td>Richardfort</td>\n",
       "      <td>38</td>\n",
       "      <td>Urban</td>\n",
       "      <td>4/17/2018 2:26</td>\n",
       "      <td>23.00</td>\n",
       "      <td>720020655850</td>\n",
       "    </tr>\n",
       "  </tbody>\n",
       "</table>\n",
       "</div>"
      ],
      "text/plain": [
       "          city  driver_count   type             date   fare        ride_id\n",
       "0  Richardfort            38  Urban   2/24/2018 8:40  13.93  5628545007794\n",
       "1  Richardfort            38  Urban  2/13/2018 12:46  14.00   910050116494\n",
       "2  Richardfort            38  Urban  2/16/2018 13:52  17.92   820639054416\n",
       "3  Richardfort            38  Urban   2/1/2018 20:18  10.26  9554935945413\n",
       "4  Richardfort            38  Urban   4/17/2018 2:26  23.00   720020655850"
      ]
     },
     "execution_count": 5,
     "metadata": {},
     "output_type": "execute_result"
    }
   ],
   "source": [
    "# Display the data tables and their attributes for confirmation\n",
    "print(type(city_data), len(city_data))\n",
    "print(type(ride_data), len(ride_data))\n",
    "print(type(city_n_rides), len(city_n_rides))\n",
    "city_n_rides.head()"
   ]
  },
  {
   "cell_type": "code",
   "execution_count": 6,
   "metadata": {},
   "outputs": [
    {
     "name": "stdout",
     "output_type": "stream",
     "text": [
      "<class 'numpy.ndarray'> 120\n"
     ]
    }
   ],
   "source": [
    "# To make sure that all \"cities\" are accounted for in both data sets\n",
    "unq_cities=city_n_rides[\"city\"].unique()\n",
    "print(type(unq_cities), len(unq_cities))\n",
    "number_of_cities=len(city_data)\n",
    "if not number_of_cities==len(unq_cities):\n",
    "    print(\"/n/n/n Problems    Problems     Problems /n Descrepency in City Names \\\n",
    "          between two data sets\")\n",
    "    # Should kick out of the program under controlled options\n",
    "    # But have not learned that, yet!"
   ]
  },
  {
   "cell_type": "code",
   "execution_count": 7,
   "metadata": {},
   "outputs": [
    {
     "data": {
      "text/html": [
       "<div>\n",
       "<style scoped>\n",
       "    .dataframe tbody tr th:only-of-type {\n",
       "        vertical-align: middle;\n",
       "    }\n",
       "\n",
       "    .dataframe tbody tr th {\n",
       "        vertical-align: top;\n",
       "    }\n",
       "\n",
       "    .dataframe thead th {\n",
       "        text-align: right;\n",
       "    }\n",
       "</style>\n",
       "<table border=\"1\" class=\"dataframe\">\n",
       "  <thead>\n",
       "    <tr style=\"text-align: right;\">\n",
       "      <th></th>\n",
       "      <th>city</th>\n",
       "      <th>driver_count</th>\n",
       "      <th>type</th>\n",
       "      <th>fare</th>\n",
       "    </tr>\n",
       "  </thead>\n",
       "  <tbody>\n",
       "    <tr>\n",
       "      <th>0</th>\n",
       "      <td>Richardfort</td>\n",
       "      <td>38</td>\n",
       "      <td>Urban</td>\n",
       "      <td>13.93</td>\n",
       "    </tr>\n",
       "    <tr>\n",
       "      <th>1</th>\n",
       "      <td>Richardfort</td>\n",
       "      <td>38</td>\n",
       "      <td>Urban</td>\n",
       "      <td>14.00</td>\n",
       "    </tr>\n",
       "    <tr>\n",
       "      <th>2</th>\n",
       "      <td>Richardfort</td>\n",
       "      <td>38</td>\n",
       "      <td>Urban</td>\n",
       "      <td>17.92</td>\n",
       "    </tr>\n",
       "    <tr>\n",
       "      <th>3</th>\n",
       "      <td>Richardfort</td>\n",
       "      <td>38</td>\n",
       "      <td>Urban</td>\n",
       "      <td>10.26</td>\n",
       "    </tr>\n",
       "    <tr>\n",
       "      <th>4</th>\n",
       "      <td>Richardfort</td>\n",
       "      <td>38</td>\n",
       "      <td>Urban</td>\n",
       "      <td>23.00</td>\n",
       "    </tr>\n",
       "  </tbody>\n",
       "</table>\n",
       "</div>"
      ],
      "text/plain": [
       "          city  driver_count   type   fare\n",
       "0  Richardfort            38  Urban  13.93\n",
       "1  Richardfort            38  Urban  14.00\n",
       "2  Richardfort            38  Urban  17.92\n",
       "3  Richardfort            38  Urban  10.26\n",
       "4  Richardfort            38  Urban  23.00"
      ]
     },
     "execution_count": 7,
     "metadata": {},
     "output_type": "execute_result"
    }
   ],
   "source": [
    "# Doing away with non-essential data columns as far as current processing is concerned\n",
    "cnr=city_n_rides.drop([\"ride_id\",\"date\"], axis=1)\n",
    "cnr.head()"
   ]
  },
  {
   "cell_type": "code",
   "execution_count": 8,
   "metadata": {},
   "outputs": [
    {
     "name": "stdout",
     "output_type": "stream",
     "text": [
      "count     1625.000000\n",
      "sum      39854.380000\n",
      "mean        24.525772\n",
      "max         44.970000\n",
      "min          4.050000\n",
      "Name: fare, dtype: float64\n",
      "count      625.000000\n",
      "sum      19356.330000\n",
      "mean        30.970128\n",
      "max         49.960000\n",
      "min         12.050000\n",
      "Name: fare, dtype: float64\n",
      "count     125.00000\n",
      "sum      4327.93000\n",
      "mean       34.62344\n",
      "max        58.55000\n",
      "min        10.11000\n",
      "Name: fare, dtype: float64\n"
     ]
    }
   ],
   "source": [
    "# Getting data for inclusion in the report\n",
    "print(cnr[cnr[\"type\"]==\"Urban\"][\"fare\"].agg([\"count\",\"sum\",\"mean\",\"max\",\"min\"]))\n",
    "print(cnr[cnr[\"type\"]==\"Suburban\"][\"fare\"].agg([\"count\",\"sum\",\"mean\",\"max\",\"min\"]))\n",
    "print(cnr[cnr[\"type\"]==\"Rural\"][\"fare\"].agg([\"count\",\"sum\",\"mean\",\"max\",\"min\"]))"
   ]
  },
  {
   "cell_type": "code",
   "execution_count": 9,
   "metadata": {},
   "outputs": [
    {
     "name": "stdout",
     "output_type": "stream",
     "text": [
      "          city  driver_count   type\n",
      "114  Garzaport             7  Rural\n",
      "           city             date   fare        ride_id\n",
      "2256  Garzaport  2/18/2018 18:27  36.16  2928337561347\n",
      "2298  Garzaport   4/17/2018 1:48  17.31  6092414045061\n",
      "2350  Garzaport   5/6/2018 16:57  18.90  8826696981094\n",
      "           city  driver_count   type             date   fare        ride_id\n",
      "2341  Garzaport             7  Rural  2/18/2018 18:27  36.16  2928337561347\n",
      "2342  Garzaport             7  Rural   4/17/2018 1:48  17.31  6092414045061\n",
      "2343  Garzaport             7  Rural   5/6/2018 16:57  18.90  8826696981094\n",
      "           city  driver_count   type   fare\n",
      "2341  Garzaport             7  Rural  36.16\n",
      "2342  Garzaport             7  Rural  17.31\n",
      "2343  Garzaport             7  Rural  18.90\n"
     ]
    }
   ],
   "source": [
    "# Just checking up on data integrirty and consistency\n",
    "thisCity=\"Garzaport\"\n",
    "print(city_data[city_data[\"city\"]==thisCity])\n",
    "print(ride_data[ride_data[\"city\"]==thisCity])\n",
    "print(city_n_rides[city_n_rides[\"city\"]==thisCity])\n",
    "print(cnr[cnr[\"city\"]==thisCity])"
   ]
  },
  {
   "cell_type": "code",
   "execution_count": 10,
   "metadata": {},
   "outputs": [],
   "source": [
    "# Prepare data for creating plotting data \n",
    "drivers=city_data[\"driver_count\"]\n",
    "city_type=city_data[\"type\"]\n",
    "zeros_list=[]\n",
    "for x in range(number_of_cities):\n",
    "        zeros_list.append(0)\n",
    "\n",
    "fares=dict(zip(unq_cities,zeros_list)) \n",
    "rides=dict(zip(unq_cities,zeros_list))"
   ]
  },
  {
   "cell_type": "code",
   "execution_count": 11,
   "metadata": {},
   "outputs": [],
   "source": [
    "# Extracting fare and number of rides info\n",
    "#print(index, row['city'], row['driver_count'], row['type'], row['fare'])\n",
    "for index, row in cnr.iterrows():\n",
    "    fares[row[0]] += row[3]\n",
    "    rides[row[0]] += 1"
   ]
  },
  {
   "cell_type": "code",
   "execution_count": 12,
   "metadata": {},
   "outputs": [],
   "source": [
    "# Preperation of Plotting Data: Total # of Rides Per City and Average Fare\n",
    "xvals=[]\n",
    "yvals=[]\n",
    "for x in range(number_of_cities):\n",
    "    thiscity=unq_cities[x]\n",
    "    nrides=rides[thiscity]\n",
    "    avg=fares[thiscity]/nrides\n",
    "    xvals.append(nrides)\n",
    "    yvals.append(avg)"
   ]
  },
  {
   "cell_type": "code",
   "execution_count": 13,
   "metadata": {},
   "outputs": [
    {
     "data": {
      "text/html": [
       "<div>\n",
       "<style scoped>\n",
       "    .dataframe tbody tr th:only-of-type {\n",
       "        vertical-align: middle;\n",
       "    }\n",
       "\n",
       "    .dataframe tbody tr th {\n",
       "        vertical-align: top;\n",
       "    }\n",
       "\n",
       "    .dataframe thead th {\n",
       "        text-align: right;\n",
       "    }\n",
       "</style>\n",
       "<table border=\"1\" class=\"dataframe\">\n",
       "  <thead>\n",
       "    <tr style=\"text-align: right;\">\n",
       "      <th></th>\n",
       "      <th>0</th>\n",
       "      <th>1</th>\n",
       "      <th>2</th>\n",
       "      <th>3</th>\n",
       "      <th>4</th>\n",
       "    </tr>\n",
       "  </thead>\n",
       "  <tbody>\n",
       "    <tr>\n",
       "      <th>0</th>\n",
       "      <td>Richardfort</td>\n",
       "      <td>28</td>\n",
       "      <td>22.373214</td>\n",
       "      <td>38</td>\n",
       "      <td>Urban</td>\n",
       "    </tr>\n",
       "    <tr>\n",
       "      <th>1</th>\n",
       "      <td>Williamsstad</td>\n",
       "      <td>23</td>\n",
       "      <td>24.362174</td>\n",
       "      <td>59</td>\n",
       "      <td>Urban</td>\n",
       "    </tr>\n",
       "    <tr>\n",
       "      <th>2</th>\n",
       "      <td>Port Angela</td>\n",
       "      <td>19</td>\n",
       "      <td>23.836842</td>\n",
       "      <td>67</td>\n",
       "      <td>Urban</td>\n",
       "    </tr>\n",
       "    <tr>\n",
       "      <th>3</th>\n",
       "      <td>Rodneyfort</td>\n",
       "      <td>23</td>\n",
       "      <td>28.616957</td>\n",
       "      <td>34</td>\n",
       "      <td>Urban</td>\n",
       "    </tr>\n",
       "    <tr>\n",
       "      <th>4</th>\n",
       "      <td>West Robert</td>\n",
       "      <td>31</td>\n",
       "      <td>25.123871</td>\n",
       "      <td>39</td>\n",
       "      <td>Urban</td>\n",
       "    </tr>\n",
       "  </tbody>\n",
       "</table>\n",
       "</div>"
      ],
      "text/plain": [
       "              0   1          2   3      4\n",
       "0   Richardfort  28  22.373214  38  Urban\n",
       "1  Williamsstad  23  24.362174  59  Urban\n",
       "2   Port Angela  19  23.836842  67  Urban\n",
       "3    Rodneyfort  23  28.616957  34  Urban\n",
       "4   West Robert  31  25.123871  39  Urban"
      ]
     },
     "execution_count": 13,
     "metadata": {},
     "output_type": "execute_result"
    }
   ],
   "source": [
    "# Creating a DataFrame\n",
    "uq_sr=pd.Series(unq_cities, name=\"City\")\n",
    "xv_sr=pd.Series(xvals, name=\"Total Rides\")\n",
    "yv_sr=pd.Series(yvals, name=\"Avg Fare\")\n",
    "sv_sr=pd.Series(drivers, name=\"Drivers\")\n",
    "tv_sr=pd.Series(city_type, name=\"Area Type\")\n",
    "xy_pd=pd.concat([uq_sr, xv_sr, yv_sr, sv_sr, tv_sr], axis=1, ignore_index=True)\n",
    "\n",
    "xy_pd.head()\n"
   ]
  },
  {
   "cell_type": "code",
   "execution_count": 14,
   "metadata": {},
   "outputs": [
    {
     "data": {
      "image/png": "[encoded data removed]",
      "text/plain": [
       "<Figure size 432x288 with 1 Axes>"
      ]
     },
     "metadata": {
      "needs_background": "light"
     },
     "output_type": "display_data"
    }
   ],
   "source": [
    "#Plots: Pyber color scheme (Gold, SkyBlue, and Coral) in producing your plot and pie charts.\n",
    "scalefactor=3.5\n",
    "xlimit=(0, 42)\n",
    "ylimit=(18, 45)\n",
    "\n",
    "fig, ax = plt.subplots()\n",
    "\n",
    "#xy_pd.plot(kind='scatter', x=1, y=2, s=xy_pd[3]*scalefactor, color=\"black\", xlim=(xlimit), ylim=(ylimit), label=\"ALL\" )\n",
    "\n",
    "xy_pd[xy_pd[4]==\"Urban\"].plot(kind='scatter', x=1, y=2, s=xy_pd[3]*scalefactor, color=\"coral\", edgecolor=\"k\",\n",
    "                              xlim=(xlimit), ylim=(ylimit), label=\"Urban\", ax=ax)\n",
    "xy_pd[xy_pd[4]==\"Suburban\"].plot(kind='scatter', x=1, y=2, s=xy_pd[3]*scalefactor, color=\"skyblue\", edgecolor=\"k\",\n",
    "                              xlim=(xlimit), ylim=(ylimit), label=\"Suburban\", ax=ax) \n",
    "xy_pd[xy_pd[4]==\"Rural\"].plot(kind='scatter', x=1, y=2, s=xy_pd[3]*scalefactor, color=\"gold\", edgecolor=\"k\",\n",
    "                              xlim=(xlimit), ylim=(ylimit), label=\"Rural\", ax=ax)\n",
    "\n",
    "\n",
    "plt.title('Pyber Ride Sharing Data (2016)') \n",
    "plt.xlabel('Total Number of Rides Per City') \n",
    "plt.ylabel('Average Fare ($)') \n",
    "note=\"Note:\\nCircle size corelates with driver count per city\"\n",
    "ax.text(1.05, .5, note, horizontalalignment='left',verticalalignment='center', \n",
    "                     transform=ax.transAxes)\n",
    "plt.grid(color='k', linestyle='-', linewidth=0.5)\n",
    "\n",
    "plt.savefig('Pyber_Ride_Data_Analysis.png')\n"
   ]
  },
  {
   "cell_type": "code",
   "execution_count": 15,
   "metadata": {},
   "outputs": [
    {
     "name": "stdout",
     "output_type": "stream",
     "text": [
      "39854.380000000005 19356.33 4327.929999999999\n",
      "1625 625 125\n",
      "2405 490 78\n"
     ]
    }
   ],
   "source": [
    "# Preparation and organization of data for Pie Charts\n",
    "tmp_data=cnr[cnr[\"type\"]==\"Urban\"]\n",
    "fare_urban=tmp_data[\"fare\"].sum()\n",
    "count_urban=tmp_data[\"fare\"].count()\n",
    "\n",
    "tmp_data=cnr[cnr[\"type\"]==\"Suburban\"]\n",
    "fare_suburban=tmp_data[\"fare\"].sum()\n",
    "count_suburban=tmp_data[\"fare\"].count()\n",
    "\n",
    "tmp_data=cnr[cnr[\"type\"]==\"Rural\"]\n",
    "fare_rural=tmp_data[\"fare\"].sum()\n",
    "count_rural=tmp_data[\"fare\"].count()\n",
    "\n",
    "tmp_data=city_data[city_data[\"type\"]==\"Urban\"]\n",
    "drivers_urban=tmp_data[\"driver_count\"].sum()\n",
    "tmp_data=city_data[city_data[\"type\"]==\"Suburban\"]\n",
    "drivers_suburban=tmp_data[\"driver_count\"].sum()\n",
    "tmp_data=city_data[city_data[\"type\"]==\"Rural\"]\n",
    "drivers_rural=tmp_data[\"driver_count\"].sum()\n",
    "\n",
    "# Numbers that will be provided to pie charting routines \n",
    "print(fare_urban, fare_suburban, fare_rural)\n",
    "print(count_urban, count_suburban, count_rural)\n",
    "print(drivers_urban, drivers_suburban, drivers_rural)\n",
    "\n",
    "# Setting common factors\n",
    "pieradius=1.2"
   ]
  },
  {
   "cell_type": "code",
   "execution_count": 16,
   "metadata": {},
   "outputs": [
    {
     "data": {
      "image/png": "[encoded data removed]",
      "text/plain": [
       "<Figure size 432x288 with 1 Axes>"
      ]
     },
     "metadata": {},
     "output_type": "display_data"
    }
   ],
   "source": [
    "# Pie Chart: % of Total Fares by City Type\n",
    "\n",
    "# Plot Attributes\n",
    "labels = ['Urban', 'Rural', 'Suburban']\n",
    "sizes = [fare_urban,fare_rural,fare_suburban ]\n",
    "colors = ['coral', 'gold', 'skyblue']\n",
    "explode = (0.1, 0, 0)  \n",
    "plt.axis('equal')\n",
    "plt.title('% of Total Fares by City Type') \n",
    "\n",
    "# Plot\n",
    "plt.pie(sizes, explode=explode, labels=labels, colors=colors,\n",
    "               autopct='%1.1f%%', shadow=True, startangle=-80, radius=pieradius)\n",
    "\n",
    "plt.savefig('Total_Fares_by_City_Type.png')\n",
    "plt.show()"
   ]
  },
  {
   "cell_type": "code",
   "execution_count": 17,
   "metadata": {},
   "outputs": [
    {
     "data": {
      "image/png": "[encoded data removed]",
      "text/plain": [
       "<Figure size 432x288 with 1 Axes>"
      ]
     },
     "metadata": {},
     "output_type": "display_data"
    }
   ],
   "source": [
    "# Pie Chart: % of Total Rides by City Type\n",
    "\n",
    "# Plot Attributes\n",
    "labels = ['Urban', 'Rural', 'Suburban']\n",
    "sizes = [count_urban,count_rural,count_suburban ]\n",
    "colors = ['coral', 'gold', 'skyblue']\n",
    "explode = (0.1, 0, 0)  \n",
    "plt.axis('equal')\n",
    "plt.title('% of Total Rides by City Type') \n",
    "\n",
    "# Plot\n",
    "plt.pie(sizes, explode=explode, labels=labels, colors=colors,\n",
    "               autopct='%1.1f%%', shadow=True, startangle=-80, radius=pieradius)\n",
    "\n",
    "plt.savefig('Total_Rides_by_City_Type.png')\n",
    "plt.show()"
   ]
  },
  {
   "cell_type": "code",
   "execution_count": 18,
   "metadata": {},
   "outputs": [
    {
     "data": {
      "image/png": "[encoded data removed]",
      "text/plain": [
       "<Figure size 432x288 with 1 Axes>"
      ]
     },
     "metadata": {},
     "output_type": "display_data"
    }
   ],
   "source": [
    "# Pie Chart: % of Total Drivers by City Type\n",
    "\n",
    "# Plot Attributes\n",
    "labels = ['Urban', 'Rural', 'Suburban']\n",
    "sizes = [drivers_urban,drivers_rural,drivers_suburban ]\n",
    "colors = ['coral', 'gold', 'skyblue']\n",
    "explode = (0.1, 0, 0)  \n",
    "plt.axis('equal')\n",
    "plt.title('% of Total Drivers by City Type') \n",
    "\n",
    "# Plot\n",
    "plt.pie(sizes, explode=explode, labels=labels, colors=colors,\n",
    "               autopct='%1.1f%%', shadow=True, startangle=-130, radius=pieradius)\n",
    "\n",
    "plt.savefig('Total_Drivers_by_City_Type.png')\n",
    "plt.show()"
   ]
  }
 ],
 "metadata": {
  "anaconda-cloud": {},
  "kernelspec": {
   "display_name": "Python 3",
   "language": "python",
   "name": "python3"
  },
  "language_info": {
   "codemirror_mode": {
    "name": "ipython",
    "version": 3
   },
   "file_extension": ".py",
   "mimetype": "text/x-python",
   "name": "python",
   "nbconvert_exporter": "python",
   "pygments_lexer": "ipython3",
   "version": "3.7.3"
  },
  "latex_envs": {
   "LaTeX_envs_menu_present": true,
   "autoclose": false,
   "autocomplete": true,
   "bibliofile": "biblio.bib",
   "cite_by": "apalike",
   "current_citInitial": 1,
   "eqLabelWithNumbers": true,
   "eqNumInitial": 1,
   "hotkeys": {
    "equation": "Ctrl-E",
    "itemize": "Ctrl-I"
   },
   "labels_anchors": false,
   "latex_user_defs": false,
   "report_style_numbering": false,
   "user_envs_cfg": false
  }
 },
 "nbformat": 4,
 "nbformat_minor": 2
}
